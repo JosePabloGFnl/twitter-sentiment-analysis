{
 "cells": [
  {
   "cell_type": "code",
   "execution_count": null,
   "metadata": {},
   "outputs": [],
   "source": [
    "from pyspark.sql import SparkSession\n",
    "from pyspark.sql.functions import regexp_replace, col\n",
    "from pyspark.ml.feature import Tokenizer, StopWordsRemover, CountVectorizer, IDF\n",
    "from pyspark.ml.classification import LogisticRegression\n",
    "from pyspark.ml import Pipeline"
   ]
  },
  {
   "cell_type": "code",
   "execution_count": null,
   "metadata": {},
   "outputs": [],
   "source": [
    "# Load Data with Spark\n",
    "\n",
    "spark = SparkSession.builder \\\n",
    "    .appName(\"Twitter Sentiment Analysis\") \\\n",
    "    .getOrCreate()\n",
    "\n",
    "df = spark.read.csv(\"training.1600000.processed.noemoticon.csv\", header=True, inferSchema=True)"
   ]
  },
  {
   "cell_type": "code",
   "execution_count": null,
   "metadata": {},
   "outputs": [],
   "source": [
    "# Data Preprocessing with Spark:\n",
    "\n",
    "df_clean = df.withColumn(\"text\", regexp_replace(col(\"text\"), \"@\\w+\", \"\")) \\\n",
    ".withColumn(\"text\", regexp_replace(col(\"text\"), \"http\\S+\", \"\")) \\\n",
    ".withColumn(\"text\", regexp_replace(col(\"text\"), \"[^a-zA-Z\\s]\", \"\"))"
   ]
  },
  {
   "cell_type": "code",
   "execution_count": null,
   "metadata": {},
   "outputs": [],
   "source": [
    "# Feature Engineering and Model Training\n",
    "\n",
    "tokenizer = Tokenizer(inputCol=\"text\", outputCol=\"words\")\n",
    "remover = StopWordsRemover(inputCol=\"words\", outputCol=\"filtered\")\n",
    "vectorizer = CountVectorizer(inputCol=\"filtered\", outputCol=\"features\")\n",
    "idf = IDF(inputCol=\"features\", outputCol=\"idf_features\")\n",
    "classifier = LogisticRegression(featuresCol=\"idf_features\", labelCol=\"label\")\n",
    "\n",
    "pipeline = Pipeline(stages=[tokenizer, remover, vectorizer, idf, classifier])\n",
    "model = pipeline.fit(df_clean)"
   ]
  },
  {
   "cell_type": "code",
   "execution_count": null,
   "metadata": {},
   "outputs": [],
   "source": [
    "# Prediction and Evaluation\n",
    "\n",
    "predictions = model.transform(test_data)\n",
    "predictions.select(\"text\", \"prediction\").show()"
   ]
  }
 ],
 "metadata": {
  "kernelspec": {
   "display_name": "Python 3.11.4 64-bit",
   "language": "python",
   "name": "python3"
  },
  "language_info": {
   "codemirror_mode": {
    "name": "ipython",
    "version": 3
   },
   "file_extension": ".py",
   "mimetype": "text/x-python",
   "name": "python",
   "nbconvert_exporter": "python",
   "pygments_lexer": "ipython3",
   "version": "3.11.5"
  },
  "orig_nbformat": 4,
  "vscode": {
   "interpreter": {
    "hash": "a35849fa43438c471e0dbbf476d1dfc1ba149d53940bd4f748394783216bfb20"
   }
  }
 },
 "nbformat": 4,
 "nbformat_minor": 2
}
